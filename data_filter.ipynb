{
 "cells": [
  {
   "cell_type": "code",
   "execution_count": 13,
   "id": "c9020404-95ee-499e-841a-269da4c02165",
   "metadata": {},
   "outputs": [],
   "source": [
    "import os\n",
    "import glob\n",
    "\n",
    "dataset_folders = [folder.replace(os.sep, '/') for folder in glob.glob('./dataset/*')]"
   ]
  },
  {
   "cell_type": "code",
   "execution_count": 14,
   "id": "c63f0546-c7b6-42ee-8169-5402d8bb30e9",
   "metadata": {},
   "outputs": [
    {
     "data": {
      "text/plain": [
       "['./dataset/emovo']"
      ]
     },
     "execution_count": 14,
     "metadata": {},
     "output_type": "execute_result"
    }
   ],
   "source": [
    "dataset_folders"
   ]
  },
  {
   "cell_type": "code",
   "execution_count": 15,
   "id": "5e015eff-7383-4eda-b217-230b9b2a79ff",
   "metadata": {},
   "outputs": [],
   "source": [
    "file_dict = {}"
   ]
  },
  {
   "cell_type": "markdown",
   "id": "3a40270d-dd40-439e-b0a4-4f5916bb6baa",
   "metadata": {},
   "source": [
    "### A Canadian French Emotional Speech Dataset"
   ]
  },
  {
   "cell_type": "code",
   "execution_count": 4,
   "id": "ea940abc-ef7b-4bec-936f-b2f5a71b5c52",
   "metadata": {},
   "outputs": [
    {
     "data": {
      "text/plain": [
       "['./dataset/A Canadian French Emotional Speech Dataset/anger',\n",
       " './dataset/A Canadian French Emotional Speech Dataset/disgust',\n",
       " './dataset/A Canadian French Emotional Speech Dataset/fear',\n",
       " './dataset/A Canadian French Emotional Speech Dataset/joy',\n",
       " './dataset/A Canadian French Emotional Speech Dataset/neutral',\n",
       " './dataset/A Canadian French Emotional Speech Dataset/sad',\n",
       " './dataset/A Canadian French Emotional Speech Dataset/surprise']"
      ]
     },
     "execution_count": 4,
     "metadata": {},
     "output_type": "execute_result"
    }
   ],
   "source": [
    "sub_folders = [sub_folder.replace(os.sep, '/') for sub_folder in glob.glob(dataset_folders[0] + '/*') if 'txt' not in sub_folder]\n",
    "sub_folders"
   ]
  },
  {
   "cell_type": "code",
   "execution_count": 5,
   "id": "a73feacd-16bc-4740-8d36-94ef9ecb9925",
   "metadata": {},
   "outputs": [],
   "source": [
    "dataset_key = 'ACFESD'\n",
    "\n",
    "file_dict[dataset_key] = {}\n",
    "\n",
    "file_ind = 1\n",
    "for sub_folder in sub_folders:\n",
    "    if any(folder_name in sub_folder for folder_name in ['neutral']): \n",
    "        sub_files = [sub_file.replace(os.sep, '/') for sub_file in glob.glob(sub_folder + '/*')]\n",
    "    \n",
    "    else:\n",
    "        sub_files = [sub_file.replace(os.sep, '/') for sub_file in glob.glob(sub_folder + '/*/*')]\n",
    "        \n",
    "    current_label = sub_folder.split('/')[-1]\n",
    "    \n",
    "    local_itr = 1\n",
    "    for sub_file in sub_files:\n",
    "        current_file_name = sub_file\n",
    "        current_ext = sub_file.split('.')[-1]\n",
    "        new_file_name = './filtered_dataset/' + dataset_key + f'/{dataset_key}__{current_label}__{local_itr}.{current_ext}'\n",
    "        file_dict[dataset_key][f'file_{file_ind}'] = {'old': current_file_name, 'new': new_file_name}\n",
    "        file_ind += 1\n",
    "        local_itr += 1"
   ]
  },
  {
   "cell_type": "markdown",
   "id": "c4c8fdfc-d7f2-47cb-9728-347c8f8e8c8c",
   "metadata": {},
   "source": [
    "### Acted Emotional Speech Dynamic Database"
   ]
  },
  {
   "cell_type": "code",
   "execution_count": 6,
   "id": "b1acf2c7-a8da-4984-90ba-43ab0319082d",
   "metadata": {},
   "outputs": [
    {
     "data": {
      "text/plain": [
       "['./dataset/Acted Emotional Speech Dynamic Database/anger',\n",
       " './dataset/Acted Emotional Speech Dynamic Database/disgust',\n",
       " './dataset/Acted Emotional Speech Dynamic Database/fear',\n",
       " './dataset/Acted Emotional Speech Dynamic Database/joy',\n",
       " './dataset/Acted Emotional Speech Dynamic Database/sad']"
      ]
     },
     "execution_count": 6,
     "metadata": {},
     "output_type": "execute_result"
    }
   ],
   "source": [
    "sub_folders = [sub_folder.replace(os.sep, '/') for sub_folder in glob.glob(dataset_folders[1] + '/*') if 'Tools' not in sub_folder]\n",
    "sub_folders"
   ]
  },
  {
   "cell_type": "code",
   "execution_count": 7,
   "id": "90f4acc7-e13f-4d27-83a4-e75f1bf315fa",
   "metadata": {},
   "outputs": [],
   "source": [
    "dataset_key = 'AESDD'\n",
    "\n",
    "file_dict[dataset_key] = {}\n",
    "\n",
    "for sub_folder in sub_folders:\n",
    "    sub_files = [sub_file.replace(os.sep, '/') for sub_file in glob.glob(sub_folder + '/*')]\n",
    "    \n",
    "    current_label = sub_folder.split('/')[-1]\n",
    "    \n",
    "    local_itr = 1\n",
    "    for sub_file in sub_files:\n",
    "        current_file_name = sub_file\n",
    "        current_ext = sub_file.split('.')[-1]\n",
    "        new_file_name = './filtered_dataset/' + dataset_key + f'/{dataset_key}__{current_label}__{local_itr}.{current_ext}'\n",
    "        file_dict[dataset_key][f'file_{file_ind}'] = {'old': current_file_name, 'new': new_file_name}\n",
    "        file_ind += 1\n",
    "        local_itr += 1"
   ]
  },
  {
   "cell_type": "markdown",
   "id": "277e2334-b60c-41a4-b484-13f11244c42e",
   "metadata": {},
   "source": [
    "### ASVP-ESD(Speech & Non-Speech Emotional Sound)\n",
    "\n",
    "3rd number in file name is emotion\n",
    "\n",
    "Emotion ( 01 = boredom,sigh| 02 = neutral,calm| 03 = happy, laugh,gaggle|04 = sad,cry | 05 = angry,grunt,frustration|06 = fearful,scream,panic| 07 = disgust, dislike,contempt|08 = surprised,gasp,amazed| 09 = excited| 10 = pleasure, 11 = pain,groan| 12 = disappointmen,disapproval| 13=breath)."
   ]
  },
  {
   "cell_type": "code",
   "execution_count": 8,
   "id": "792563c0-592b-43e2-9935-dfbec12fdb6b",
   "metadata": {},
   "outputs": [],
   "source": [
    "sub_folders = [sub_folder.replace(os.sep, '/') for sub_folder in glob.glob(dataset_folders[2] + '/Audio/*') if 'Tools' not in sub_folder]"
   ]
  },
  {
   "cell_type": "code",
   "execution_count": 9,
   "id": "4d1a6551-34cc-4e25-b208-1562df3e2150",
   "metadata": {},
   "outputs": [],
   "source": [
    "label_dict = {'01' : 'boredom',\n",
    "              '02' : 'neutral',\n",
    "              '03' : 'joy',\n",
    "              '04' : 'sad',\n",
    "              '05' : 'angry',\n",
    "              '06' : 'fear',\n",
    "              '07' : 'disgust',\n",
    "              '08' : 'surprise',\n",
    "              '09' : 'excited',\n",
    "              '10' : 'pleasure',\n",
    "              '11' : 'pain',\n",
    "              '12' : 'disappointment',\n",
    "              '13' : 'breath'}"
   ]
  },
  {
   "cell_type": "code",
   "execution_count": 10,
   "id": "42788be8-e8f4-4355-a837-48620d921127",
   "metadata": {},
   "outputs": [],
   "source": [
    "dataset_key = 'ASVPESD'\n",
    "\n",
    "file_dict[dataset_key] = {}\n",
    "\n",
    "local_label_dict = {}\n",
    "\n",
    "for sub_folder in sub_folders:\n",
    "    sub_files = [sub_file.replace(os.sep, '/') for sub_file in glob.glob(sub_folder + '/*')]\n",
    "    \n",
    "    for sub_file in sub_files:\n",
    "        current_label = label_dict[sub_file.split('/')[-1].split('-')[2]]\n",
    "        \n",
    "        if current_label not in local_label_dict:\n",
    "            local_label_dict[current_label] = 1\n",
    "            \n",
    "        current_file_name = sub_file\n",
    "        current_ext = sub_file.split('.')[-1]\n",
    "        new_file_name = './filtered_dataset/' + dataset_key + f'/{dataset_key}__{current_label}__{local_label_dict[current_label]}.{current_ext}'\n",
    "        file_dict[dataset_key][f'file_{file_ind}'] = {'old': current_file_name, 'new': new_file_name}\n",
    "        file_ind += 1\n",
    "        local_label_dict[current_label] += 1"
   ]
  },
  {
   "cell_type": "markdown",
   "id": "a0887e2a-6aec-47b1-8992-31212fbe35bb",
   "metadata": {},
   "source": [
    "### CREMA-D\n",
    "\n",
    "1001_DFA_ANG_XX"
   ]
  },
  {
   "cell_type": "code",
   "execution_count": 11,
   "id": "78b42097-6446-4286-9680-317058cb120b",
   "metadata": {},
   "outputs": [],
   "source": [
    "sub_files = [sub_file.replace(os.sep, '/') for sub_file in glob.glob(dataset_folders[3] + '/AudioWAV/*')]"
   ]
  },
  {
   "cell_type": "code",
   "execution_count": 12,
   "id": "a879373b-0bf5-4d18-8ce6-63a5138749b6",
   "metadata": {},
   "outputs": [],
   "source": [
    "label_dict = {'ANG' : 'anger',\n",
    "              'DIS' : 'disgust',\n",
    "              'FEA' : 'fear',\n",
    "              'HAP' : 'joy',\n",
    "              'NEU' : 'neutral',\n",
    "              'SAD' : 'sad'}"
   ]
  },
  {
   "cell_type": "code",
   "execution_count": 13,
   "id": "c74c97da-6d75-459f-8ecc-8f4134ad9829",
   "metadata": {},
   "outputs": [],
   "source": [
    "dataset_key = 'CREMAD'\n",
    "\n",
    "file_dict[dataset_key] = {}\n",
    "\n",
    "local_label_dict = {}\n",
    "\n",
    "for sub_file in sub_files:\n",
    "    current_label = label_dict[sub_file.split('/')[-1].split('_')[2]]\n",
    "    \n",
    "    if current_label not in local_label_dict:\n",
    "        local_label_dict[current_label] = 1\n",
    "            \n",
    "    current_file_name = sub_file\n",
    "    current_ext = sub_file.split('.')[-1]\n",
    "    new_file_name = './filtered_dataset/' + dataset_key + f'/{dataset_key}__{current_label}__{local_label_dict[current_label]}.{current_ext}'\n",
    "    file_dict[dataset_key][f'file_{file_ind}'] = {'old': current_file_name, 'new': new_file_name}\n",
    "    file_ind += 1\n",
    "    local_label_dict[current_label] += 1"
   ]
  },
  {
   "cell_type": "markdown",
   "id": "542e04ca-2573-42a3-9b82-0bb72018eb31",
   "metadata": {},
   "source": [
    "### EMOVO\n",
    "\n",
    "disgusto - disgust\n",
    "gioia - joy\n",
    "paura - fear\n",
    "rabbia - anger\n",
    "sorpresa - surprise\n",
    "tristezza - sad"
   ]
  },
  {
   "cell_type": "code",
   "execution_count": 16,
   "id": "db160783-825a-4aac-8227-4875292f94ef",
   "metadata": {},
   "outputs": [
    {
     "data": {
      "text/plain": [
       "['./dataset/emovo/f1',\n",
       " './dataset/emovo/f2',\n",
       " './dataset/emovo/f3',\n",
       " './dataset/emovo/m1',\n",
       " './dataset/emovo/m2',\n",
       " './dataset/emovo/m3']"
      ]
     },
     "execution_count": 16,
     "metadata": {},
     "output_type": "execute_result"
    }
   ],
   "source": [
    "sub_folders = [sub_folder.replace(os.sep, '/') for sub_folder in glob.glob('./dataset/emovo' + '/*') if 'documents' not in sub_folder]\n",
    "sub_folders"
   ]
  },
  {
   "cell_type": "code",
   "execution_count": 17,
   "id": "f5957c9f-f9cc-408b-9375-8fb3fda69aa4",
   "metadata": {},
   "outputs": [],
   "source": [
    "label_dict = {'dis' : 'disgust',\n",
    "              'gio' : 'joy',\n",
    "              'pau' : 'fear',\n",
    "              'rab' : 'anger',\n",
    "              'sor' : 'surprise',\n",
    "              'tri' : 'sad',\n",
    "              'neu' : 'neutral'}"
   ]
  },
  {
   "cell_type": "code",
   "execution_count": 18,
   "id": "d2f0c31a-c536-4ee0-826d-c95127abeb6d",
   "metadata": {},
   "outputs": [],
   "source": [
    "dataset_key = 'EMOVO'\n",
    "\n",
    "file_dict[dataset_key] = {}\n",
    "\n",
    "local_label_dict = {}\n",
    "\n",
    "# file_ind = 1\n",
    "for sub_folder in sub_folders:\n",
    "    sub_files = [sub_file.replace(os.sep, '/') for sub_file in glob.glob(sub_folder + '/*')]\n",
    "    \n",
    "    for sub_file in sub_files:\n",
    "        current_label = label_dict[sub_file.split('/')[-1].split('-')[0]]\n",
    "        \n",
    "        if current_label not in local_label_dict:\n",
    "            local_label_dict[current_label] = 1\n",
    "\n",
    "        current_file_name = sub_file\n",
    "        current_ext = sub_file.split('.')[-1]\n",
    "        new_file_name = './filtered_dataset/' + dataset_key + f'/{dataset_key}__{current_label}__{local_label_dict[current_label]}.{current_ext}'\n",
    "        file_dict[dataset_key][f'file_{file_ind}'] = {'old': current_file_name, 'new': new_file_name}\n",
    "        file_ind += 1\n",
    "        local_label_dict[current_label] += 1"
   ]
  },
  {
   "cell_type": "markdown",
   "id": "3be9a638-2a4e-4c09-8d94-8477a4642b4d",
   "metadata": {},
   "source": [
    "### Estonian Emotional Speech Corpus"
   ]
  },
  {
   "cell_type": "code",
   "execution_count": 17,
   "id": "e53e3e00-3522-4721-82a1-132e3269ef3d",
   "metadata": {},
   "outputs": [],
   "source": [
    "sub_files = [sub_file.replace(os.sep, '/') for sub_file in glob.glob(dataset_folders[5] + '/*') if 'wav' in sub_file]"
   ]
  },
  {
   "cell_type": "code",
   "execution_count": 18,
   "id": "25e870b1-90b4-41b4-af53-69b6745e9e87",
   "metadata": {},
   "outputs": [],
   "source": [
    "dataset_key = 'EESC'\n",
    "\n",
    "file_dict[dataset_key] = {}\n",
    "\n",
    "local_label_dict = {}\n",
    "\n",
    "for sub_file in sub_files:\n",
    "    with open(sub_file.replace('wav', 'TextGrid'), 'rb') as f:\n",
    "        current_label = f.readlines()[-1].decode('utf-8').replace('\\n', '').split(' = ')[-1].split('\"')[1]\n",
    "    \n",
    "    if current_label not in local_label_dict:\n",
    "        local_label_dict[current_label] = 1\n",
    "            \n",
    "    current_file_name = sub_file\n",
    "    current_ext = sub_file.split('.')[-1]\n",
    "    new_file_name = './filtered_dataset/' + dataset_key + f'/{dataset_key}__{current_label}__{local_label_dict[current_label]}.{current_ext}'\n",
    "    file_dict[dataset_key][f'file_{file_ind}'] = {'old': current_file_name, 'new': new_file_name}\n",
    "    file_ind += 1\n",
    "    local_label_dict[current_label] += 1"
   ]
  },
  {
   "cell_type": "markdown",
   "id": "924fe76f-0d3e-4364-8f7e-5852e0b39937",
   "metadata": {},
   "source": [
    "### JL Corpus\n",
    "\n",
    "female1_angry_1a_1"
   ]
  },
  {
   "cell_type": "code",
   "execution_count": 19,
   "id": "99dfc154-fab2-46da-8f81-ee24236d7660",
   "metadata": {},
   "outputs": [],
   "source": [
    "sub_files = [sub_file.replace(os.sep, '/') for sub_file in glob.glob(dataset_folders[6] + '/*/*') if '.wav' in sub_file]"
   ]
  },
  {
   "cell_type": "code",
   "execution_count": 20,
   "id": "da477f3f-fc6f-43c5-9ca3-d09a49b7a7a9",
   "metadata": {},
   "outputs": [],
   "source": [
    "dataset_key = 'JLC'\n",
    "\n",
    "file_dict[dataset_key] = {}\n",
    "\n",
    "local_label_dict = {}\n",
    "\n",
    "for sub_file in sub_files:\n",
    "    current_label = sub_file.split('/')[-1].split('_')[1]\n",
    "    \n",
    "    if current_label not in local_label_dict:\n",
    "        local_label_dict[current_label] = 1\n",
    "            \n",
    "    current_file_name = sub_file\n",
    "    current_ext = sub_file.split('.')[-1]\n",
    "    new_file_name = './filtered_dataset/' + dataset_key + f'/{dataset_key}__{current_label}__{local_label_dict[current_label]}.{current_ext}'\n",
    "    file_dict[dataset_key][f'file_{file_ind}'] = {'old': current_file_name, 'new': new_file_name}\n",
    "    file_ind += 1\n",
    "    local_label_dict[current_label] += 1"
   ]
  },
  {
   "cell_type": "markdown",
   "id": "5f08f7a6-977e-4ed5-9e72-cbcecb875905",
   "metadata": {},
   "source": [
    "### Mexican Emotional Speech Database (MESD)\n",
    "\n",
    "Anger_C_A_abajo"
   ]
  },
  {
   "cell_type": "code",
   "execution_count": 21,
   "id": "9af6bfa6-e99f-46d0-a2c0-d18bb0bde330",
   "metadata": {},
   "outputs": [
    {
     "data": {
      "text/plain": [
       "['./dataset/Mexican Emotional Speech Database (MESD)/MESD Speaker-embedded naturalness-reduced female voices',\n",
       " './dataset/Mexican Emotional Speech Database (MESD)/Mexican Emotional Speech Database (MESD)']"
      ]
     },
     "execution_count": 21,
     "metadata": {},
     "output_type": "execute_result"
    }
   ],
   "source": [
    "sub_folders = [sub_folder.replace(os.sep, '/') for sub_folder in glob.glob(dataset_folders[7] + '/*') if 'README' not in sub_folder]\n",
    "sub_folders"
   ]
  },
  {
   "cell_type": "code",
   "execution_count": 22,
   "id": "e9ec8682-0416-4ed4-844e-b883e51fa0b7",
   "metadata": {},
   "outputs": [],
   "source": [
    "dataset_key = 'MESD'\n",
    "\n",
    "file_dict[dataset_key] = {}\n",
    "\n",
    "local_label_dict = {}\n",
    "\n",
    "for sub_folder in sub_folders:\n",
    "    sub_files = [sub_file.replace(os.sep, '/') for sub_file in glob.glob(sub_folder + '/*')]\n",
    "    \n",
    "    for sub_file in sub_files:\n",
    "        current_label = sub_file.split('/')[-1].split('_')[0].lower()\n",
    "        \n",
    "        if current_label not in local_label_dict:\n",
    "            local_label_dict[current_label] = 1\n",
    "\n",
    "        current_file_name = sub_file\n",
    "        current_ext = sub_file.split('.')[-1]\n",
    "        new_file_name = './filtered_dataset/' + dataset_key + f'/{dataset_key}__{current_label}__{local_label_dict[current_label]}.{current_ext}'\n",
    "        file_dict[dataset_key][f'file_{file_ind}'] = {'old': current_file_name, 'new': new_file_name}\n",
    "        file_ind += 1\n",
    "        local_label_dict[current_label] += 1"
   ]
  },
  {
   "cell_type": "markdown",
   "id": "618e3e6e-7a1f-4f26-8b2c-30c5c4eada5b",
   "metadata": {},
   "source": [
    "### syntact_cat\n",
    "\n",
    "de1_angry_p000001"
   ]
  },
  {
   "cell_type": "code",
   "execution_count": 23,
   "id": "8cec9068-422b-449f-a0fe-8c263fa86ff8",
   "metadata": {},
   "outputs": [],
   "source": [
    "sub_files = [sub_file.replace(os.sep, '/') for sub_file in glob.glob(dataset_folders[8] + '/synthesized_audio/*')]"
   ]
  },
  {
   "cell_type": "code",
   "execution_count": 24,
   "id": "f1eb3e99-b8ac-46b6-abd2-5071c28702c5",
   "metadata": {},
   "outputs": [],
   "source": [
    "dataset_key = 'SYNCAT'\n",
    "\n",
    "file_dict[dataset_key] = {}\n",
    "\n",
    "local_label_dict = {}\n",
    "\n",
    "for sub_file in sub_files:\n",
    "    current_label = sub_file.split('/')[-1].split('_')[1]\n",
    "    \n",
    "    if current_label not in local_label_dict:\n",
    "        local_label_dict[current_label] = 1\n",
    "\n",
    "    current_file_name = sub_file\n",
    "    current_ext = sub_file.split('.')[-1]\n",
    "    new_file_name = './filtered_dataset/' + dataset_key + f'/{dataset_key}__{current_label}__{local_label_dict[current_label]}.{current_ext}'\n",
    "    file_dict[dataset_key][f'file_{file_ind}'] = {'old': current_file_name, 'new': new_file_name}\n",
    "    file_ind += 1\n",
    "    local_label_dict[current_label] += 1"
   ]
  },
  {
   "cell_type": "markdown",
   "id": "2a35b559-46f3-46ca-b7b8-b40319d65a30",
   "metadata": {},
   "source": [
    "### TESS Toronto emotional speech set data"
   ]
  },
  {
   "cell_type": "code",
   "execution_count": 25,
   "id": "e2663674-5f99-46a1-841a-5c2ab4654367",
   "metadata": {},
   "outputs": [
    {
     "data": {
      "text/plain": [
       "['./dataset/TESS Toronto emotional speech set data/OAF_angry',\n",
       " './dataset/TESS Toronto emotional speech set data/OAF_disgust',\n",
       " './dataset/TESS Toronto emotional speech set data/OAF_Fear',\n",
       " './dataset/TESS Toronto emotional speech set data/OAF_happy',\n",
       " './dataset/TESS Toronto emotional speech set data/OAF_neutral',\n",
       " './dataset/TESS Toronto emotional speech set data/OAF_Pleasant_surprise',\n",
       " './dataset/TESS Toronto emotional speech set data/OAF_Sad',\n",
       " './dataset/TESS Toronto emotional speech set data/YAF_angry',\n",
       " './dataset/TESS Toronto emotional speech set data/YAF_disgust',\n",
       " './dataset/TESS Toronto emotional speech set data/YAF_fear',\n",
       " './dataset/TESS Toronto emotional speech set data/YAF_happy',\n",
       " './dataset/TESS Toronto emotional speech set data/YAF_neutral',\n",
       " './dataset/TESS Toronto emotional speech set data/YAF_pleasant_surprised',\n",
       " './dataset/TESS Toronto emotional speech set data/YAF_sad']"
      ]
     },
     "execution_count": 25,
     "metadata": {},
     "output_type": "execute_result"
    }
   ],
   "source": [
    "sub_folders = [sub_folder.replace(os.sep, '/') for sub_folder in glob.glob(dataset_folders[9] + '/*')]\n",
    "sub_folders"
   ]
  },
  {
   "cell_type": "code",
   "execution_count": 26,
   "id": "19715a94-9f7c-4872-bee7-e36773ac9143",
   "metadata": {},
   "outputs": [],
   "source": [
    "dataset_key = 'TESS'\n",
    "\n",
    "file_dict[dataset_key] = {}\n",
    "\n",
    "local_label_dict = {}\n",
    "\n",
    "for sub_folder in sub_folders:\n",
    "    sub_files = [sub_file.replace(os.sep, '/') for sub_file in glob.glob(sub_folder + '/*')]\n",
    "    \n",
    "    for sub_file in sub_files:\n",
    "        current_label = sub_file.split('/')[-1].split('_')[-1].split('.')[0].lower()\n",
    "        \n",
    "        if 'surprise' in current_label:\n",
    "            current_label = ' surprise'\n",
    "        \n",
    "        if current_label not in local_label_dict:\n",
    "            local_label_dict[current_label] = 1\n",
    "\n",
    "        current_file_name = sub_file\n",
    "        current_ext = sub_file.split('.')[-1]\n",
    "        new_file_name = './filtered_dataset/' + dataset_key + f'/{dataset_key}__{current_label}__{local_label_dict[current_label]}.{current_ext}'\n",
    "        file_dict[dataset_key][f'file_{file_ind}'] = {'old': current_file_name, 'new': new_file_name}\n",
    "        file_ind += 1\n",
    "        local_label_dict[current_label] += 1"
   ]
  },
  {
   "cell_type": "markdown",
   "id": "ae1079a1-4449-45ed-bf58-2c4f0d47ec1a",
   "metadata": {},
   "source": [
    "### The Ryerson Audio-Visual Database of Emotional Speech and Song (RAVDESS)\n",
    "\n",
    "3rd number in file name is emotion\n",
    "\n",
    "Emotion (01 = neutral, 02 = calm, 03 = happy, 04 = sad, 05 = angry, 06 = fearful, 07 = disgust, 08 = surprised)."
   ]
  },
  {
   "cell_type": "code",
   "execution_count": 27,
   "id": "8386bdcc-662c-4b97-a4b2-2593e7f96e96",
   "metadata": {},
   "outputs": [
    {
     "data": {
      "text/plain": [
       "['./dataset/The Ryerson Audio-Visual Database of Emotional Speech and Song (RAVDESS)/Audio_Song_Actors_01-24',\n",
       " './dataset/The Ryerson Audio-Visual Database of Emotional Speech and Song (RAVDESS)/Audio_Speech_Actors_01-24']"
      ]
     },
     "execution_count": 27,
     "metadata": {},
     "output_type": "execute_result"
    }
   ],
   "source": [
    "sub_folders = [sub_folder.replace(os.sep, '/') for sub_folder in glob.glob(dataset_folders[10] + '/*')]\n",
    "sub_folders"
   ]
  },
  {
   "cell_type": "code",
   "execution_count": 28,
   "id": "cbc9e226-5124-4be5-b27c-61e85850e37a",
   "metadata": {},
   "outputs": [],
   "source": [
    "label_dict = {'01' : 'neutral',\n",
    "              '02' : 'calm',\n",
    "              '03' : 'joy',\n",
    "              '04' : 'sad',\n",
    "              '05' : 'angry',\n",
    "              '06' : 'fear',\n",
    "              '07' : 'disgust',\n",
    "              '08' : 'surprise'}"
   ]
  },
  {
   "cell_type": "code",
   "execution_count": 29,
   "id": "c939085d-6f23-43b5-93dd-c938b4b26b6e",
   "metadata": {},
   "outputs": [],
   "source": [
    "dataset_key = 'RAVDESS'\n",
    "\n",
    "file_dict[dataset_key] = {}\n",
    "\n",
    "local_label_dict = {}\n",
    "\n",
    "for sub_folder in sub_folders: \n",
    "    sub_sub_folders = [sub_sub_folde.replace(os.sep, '/') for sub_sub_folde in glob.glob(sub_folder + '/*')]\n",
    "    \n",
    "    for sub_sub_folder in sub_sub_folders:\n",
    "        sub_files = [sub_file.replace(os.sep, '/') for sub_file in glob.glob(sub_sub_folder + '/*')]\n",
    "        \n",
    "        for sub_file in sub_files:\n",
    "            current_label = label_dict[sub_file.split('/')[-1].split('-')[2]]\n",
    "            \n",
    "            if current_label not in local_label_dict:\n",
    "                local_label_dict[current_label] = 1\n",
    "\n",
    "            current_file_name = sub_file\n",
    "            current_ext = sub_file.split('.')[-1]\n",
    "            new_file_name = './filtered_dataset/' + dataset_key + f'/{dataset_key}__{current_label}__{local_label_dict[current_label]}.{current_ext}'\n",
    "            file_dict[dataset_key][f'file_{file_ind}'] = {'old': current_file_name, 'new': new_file_name}\n",
    "            file_ind += 1\n",
    "            local_label_dict[current_label] += 1"
   ]
  },
  {
   "cell_type": "markdown",
   "id": "5d713b9d-9531-4b23-8964-b7353137d59d",
   "metadata": {},
   "source": [
    "### URDU-Dataset"
   ]
  },
  {
   "cell_type": "code",
   "execution_count": 30,
   "id": "83bec57b-236f-47e3-b733-aac13bce8a93",
   "metadata": {},
   "outputs": [
    {
     "data": {
      "text/plain": [
       "['./dataset/URDU-Dataset/Angry',\n",
       " './dataset/URDU-Dataset/Happy',\n",
       " './dataset/URDU-Dataset/Neutral',\n",
       " './dataset/URDU-Dataset/Sad']"
      ]
     },
     "execution_count": 30,
     "metadata": {},
     "output_type": "execute_result"
    }
   ],
   "source": [
    "sub_folders = [sub_folder.replace(os.sep, '/') for sub_folder in glob.glob(dataset_folders[11] + '/*') if 'README' not in sub_folder]\n",
    "sub_folders"
   ]
  },
  {
   "cell_type": "code",
   "execution_count": 31,
   "id": "a5d43974-0dd0-4693-bd5b-79a9422e7303",
   "metadata": {},
   "outputs": [],
   "source": [
    "dataset_key = 'URDU'\n",
    "\n",
    "file_dict[dataset_key] = {}\n",
    "\n",
    "local_label_dict = {}\n",
    "\n",
    "for sub_folder in sub_folders: \n",
    "    sub_files = [sub_file.replace(os.sep, '/') for sub_file in glob.glob(sub_folder + '/*')]\n",
    "        \n",
    "    for sub_file in sub_files:\n",
    "        current_label = sub_file.split('/')[-2].lower()\n",
    "        \n",
    "        if current_label not in local_label_dict:\n",
    "            local_label_dict[current_label] = 1\n",
    "\n",
    "        current_file_name = sub_file\n",
    "        current_ext = sub_file.split('.')[-1]\n",
    "        new_file_name = './filtered_dataset/' + dataset_key + f'/{dataset_key}__{current_label}__{local_label_dict[current_label]}.{current_ext}'\n",
    "        file_dict[dataset_key][f'file_{file_ind}'] = {'old': current_file_name, 'new': new_file_name}\n",
    "        file_ind += 1\n",
    "        local_label_dict[current_label] += 1"
   ]
  },
  {
   "cell_type": "code",
   "execution_count": null,
   "id": "db8035a7-5975-4084-a953-0f80c6945ac4",
   "metadata": {},
   "outputs": [],
   "source": []
  },
  {
   "cell_type": "markdown",
   "id": "9e06ce94-c6bd-4b62-9efb-fef2784d04e7",
   "metadata": {},
   "source": [
    "## FILE FILTERING"
   ]
  },
  {
   "cell_type": "code",
   "execution_count": 19,
   "id": "c992efd2-7cf4-4368-9bb7-eca80518a843",
   "metadata": {},
   "outputs": [],
   "source": [
    "import shutil\n",
    "\n",
    "datasets = list(file_dict.keys())\n",
    "\n",
    "for dataset in datasets:\n",
    "    \n",
    "    dataset_path = f\"./filtered_dataset/{dataset}\"\n",
    "    \n",
    "    if not os.path.exists(dataset_path):\n",
    "        os.mkdir(dataset_path)\n",
    "        \n",
    "    file_ids = list(file_dict[dataset].keys())\n",
    "    \n",
    "    for file_id in file_ids:\n",
    "        \n",
    "        old_file_path = file_dict[dataset][file_id]['old']\n",
    "        new_file_path = file_dict[dataset][file_id]['new']\n",
    "        \n",
    "        shutil.copyfile(old_file_path, new_file_path)"
   ]
  }
 ],
 "metadata": {
  "kernelspec": {
   "display_name": "Python 3 (ipykernel)",
   "language": "python",
   "name": "python3"
  },
  "language_info": {
   "codemirror_mode": {
    "name": "ipython",
    "version": 3
   },
   "file_extension": ".py",
   "mimetype": "text/x-python",
   "name": "python",
   "nbconvert_exporter": "python",
   "pygments_lexer": "ipython3",
   "version": "3.10.9"
  }
 },
 "nbformat": 4,
 "nbformat_minor": 5
}
