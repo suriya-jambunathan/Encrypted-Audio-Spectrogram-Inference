{
 "cells": [
  {
   "cell_type": "code",
   "execution_count": 43,
   "id": "0dd90f4c-8826-4e85-8dc8-88b730123f7b",
   "metadata": {},
   "outputs": [],
   "source": [
    "import os\n",
    "import glob\n",
    "\n",
    "dataset_folders = [dataset_folder.replace(os.sep, '/') for dataset_folder in glob.glob('./filtered_dataset/*')]"
   ]
  },
  {
   "cell_type": "code",
   "execution_count": 44,
   "id": "e6c38833-8ffe-4518-8750-812eab064cb0",
   "metadata": {},
   "outputs": [
    {
     "name": "stdout",
     "output_type": "stream",
     "text": [
      "ACFESD : ['neutral', 'sad', 'anger', 'disgust', 'fear', 'joy', 'surprise']\n",
      "AESDD : ['sad', 'anger', 'disgust', 'fear', 'joy']\n",
      "ASVPESD : ['boredom', 'neutral', 'sad', 'pleasure', 'joy', 'pain', 'excited', 'breath', 'angry', 'disgust', 'fear', 'disappointment', 'surprise']\n",
      "CREMAD : ['neutral', 'sad', 'anger', 'disgust', 'fear', 'joy']\n",
      "EESC : ['joy', 'sadness', 'anger', 'neutral']\n",
      "EMOVO : ['neutral', 'sad', 'anger', 'disgust', 'fear', 'joy', 'surprise']\n",
      "JLC : ['apologetic', 'neutral', 'sad', 'anxious', 'excited', 'angry', 'assertive', 'happy', 'concerned', 'encouraging']\n",
      "MESD : ['neutral', 'sadness', 'anger', 'desktop.ini', 'happiness', 'disgust', 'fear']\n",
      "RAVDESS : ['neutral', 'sad', 'angry', 'disgust', 'fear', 'joy', 'surprise', 'calm']\n",
      "SYNCAT : ['neutral', 'sad', 'angry', 'happy', 'scared', 'bored']\n",
      "TESS : ['neutral', 'sad', 'angry', 'disgust', 'fear', 'happy', 'ps']\n",
      "URDU : ['angry', 'neutral', 'sad', 'happy']\n"
     ]
    }
   ],
   "source": [
    "for dataset_folder in dataset_folders:\n",
    "    dataset_name = dataset_folder.split('/')[-1]\n",
    "    dataset_files = [dataset_file.replace(os.sep, '/') for dataset_file in glob.glob(dataset_folder + '/*')]\n",
    "    current_classes = list(set([dataset_file.split('/')[-1].split('__')[1] for dataset_file in dataset_files]))\n",
    "    print(f\"{dataset_name} : {current_classes}\")"
   ]
  },
  {
   "cell_type": "code",
   "execution_count": 45,
   "id": "6600ab1c-f456-40aa-b18d-d971bcb78ccd",
   "metadata": {},
   "outputs": [],
   "source": [
    "data_classes_dict = \\\n",
    "{'ACFESD' : {'positive': ['joy', 'surprise'], 'negative': ['sad', 'anger', 'disgust', 'fear']},\n",
    "'AESDD'  : {'positive': ['joy'], 'negative': ['sad', 'anger', 'disgust', 'fear']},\n",
    "'ASVPESD': {'positive': ['pleasure', 'joy', 'excited', 'surprise'], 'negative': ['boredom', 'sad', 'pain', 'angry', 'disgust', 'fear', 'disappointment']},\n",
    "'CREMAD' : {'positive': ['joy'], 'negative': ['sad', 'anger', 'disgust', 'fear']},\n",
    "'EESC'   : {'positive': ['joy'], 'negative': ['sadness', 'anger']},\n",
    "'EMOVO'  : {'positive': ['joy', 'surprise'], 'negative': ['fear', 'anger', 'sad', 'disgust']}, \n",
    "'JLC'    : {'positive': ['excited', 'happy', 'assertive', 'encouraging'], 'negative': ['sad', 'anxious', 'angry', 'concerned']},\n",
    "'MESD'   : {'positive': ['happiness'], 'negative': ['sadness', 'anger', 'disgust', 'fear']},\n",
    "'RAVDESS': {'positive': ['joy', 'surprise', 'calm'], 'negative': ['sad', 'angry', 'disgust', 'fear']},\n",
    "'SYNCAT' : {'positive': ['happy'], 'negative': ['sad', 'angry', 'scared', 'bored']},\n",
    "'TESS'   : {'positive': ['happy', 'ps'], 'negative': ['sad', 'angry', 'disgust', 'fear']},\n",
    "'URDU'   : {'positive': ['happy'], 'negative': ['angry', 'sad']}}"
   ]
  },
  {
   "cell_type": "code",
   "execution_count": 46,
   "id": "28d4e16c-fb9e-45fc-8278-4e1fde9939dc",
   "metadata": {},
   "outputs": [],
   "source": [
    "for dataset_folder in dataset_folders:\n",
    "    dataset_files = [dataset_file.replace(os.sep, '/') for dataset_file in glob.glob(dataset_folder + '/*')]\n",
    "    dataset_name = dataset_folder.split('/')[-1]\n",
    "    \n",
    "    for dataset_file in dataset_files:\n",
    "        try:\n",
    "            current_class = dataset_file.split('/')[-1].split('__')[-2]\n",
    "            new_class = 'positive' if current_class in data_classes_dict[dataset_name]['positive'] else 'negative' if current_class in data_classes_dict[dataset_name]['negative'] else None\n",
    "            new_directory = '/'.join(dataset_file.split('/')[:-1] + [new_class])\n",
    "            if not os.path.exists(new_directory):\n",
    "                os.mkdir(new_directory)\n",
    "            new_dataset_file =  new_directory + '/' + '__'.join(dataset_file.split('/')[-1].split('__')[:-1] + [new_class, dataset_file.split('/')[-1].split('__')[-1]])\n",
    "            os.rename(dataset_file,new_dataset_file)\n",
    "        except:\n",
    "            pass\n",
    "            if os.path.isfile(dataset_file):\n",
    "                os.remove(dataset_file)"
   ]
  }
 ],
 "metadata": {
  "kernelspec": {
   "display_name": "Python 3 (ipykernel)",
   "language": "python",
   "name": "python3"
  },
  "language_info": {
   "codemirror_mode": {
    "name": "ipython",
    "version": 3
   },
   "file_extension": ".py",
   "mimetype": "text/x-python",
   "name": "python",
   "nbconvert_exporter": "python",
   "pygments_lexer": "ipython3",
   "version": "3.10.9"
  }
 },
 "nbformat": 4,
 "nbformat_minor": 5
}
